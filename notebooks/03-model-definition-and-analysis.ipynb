{
 "cells": [
  {
   "cell_type": "markdown",
   "metadata": {},
   "source": [
    "# Model Definition and Result Analysis"
   ]
  },
  {
   "cell_type": "markdown",
   "metadata": {},
   "source": [
    "Now we are ready to start defining and training our machine learning models to accomplish the task of predicting borrowers whom will likely default in an application. As we have stated before, since we do not have balanced classes, we need to base our approaches using imbalance learning, that is, a technique that deals with imbalanced datasets. Basically, we use a **sampling** technique, for example oversampling or undersampling where data can be increased / decreased artificially to induce less erros in classification task. The task of choosing the right model is also a difficult one and metrics should be evaluated considering this intrinsic characteristic of data. During development of notebook I will dive into a more detailed discussion."
   ]
  },
  {
   "cell_type": "markdown",
   "metadata": {},
   "source": [
    "## Importing Libraries and Data"
   ]
  },
  {
   "cell_type": "code",
   "execution_count": 1,
   "metadata": {},
   "outputs": [],
   "source": [
    "%load_ext autoreload\n",
    "%autoreload 2"
   ]
  },
  {
   "cell_type": "code",
   "execution_count": 2,
   "metadata": {},
   "outputs": [],
   "source": [
    "import sys\n",
    "\n",
    "sys.path.append('../src')\n",
    "\n",
    "import pandas as pd\n",
    "import numpy as np\n",
    "\n",
    "from sklearn.preprocessing import MinMaxScaler, StandardScaler, OneHotEncoder, LabelEncoder\n",
    "from sklearn.compose import ColumnTransformer\n",
    "from sklearn.impute import SimpleImputer\n",
    "from sklearn.model_selection import train_test_split, GridSearchCV, cross_validate\n",
    "from sklearn.pipeline import Pipeline, make_pipeline, FeatureUnion\n",
    "\n",
    "from sklearn.linear_model import LogisticRegression\n",
    "from sklearn.ensemble import RandomForestClassifier\n",
    "from sklearn.metrics import confusion_matrix, accuracy_score, classification_report, f1_score, recall_score, precision_score, make_scorer\n",
    "from lightgbm import LGBMClassifier\n",
    "\n",
    "from imblearn.over_sampling import RandomOverSampler, SMOTE, SMOTENC\n",
    "from imblearn.under_sampling import RandomUnderSampler, NearMiss\n",
    "from imblearn import pipeline as imb_pipeline\n",
    "\n",
    "from sklego.preprocessing import ColumnCapper\n",
    "\n",
    "# custom functions and classes\n",
    "from features import NewFeatureTransformer\n",
    "from preprocess import label_encoder\n",
    "\n",
    "pd.set_option(\"max_columns\", 100)"
   ]
  },
  {
   "cell_type": "code",
   "execution_count": 3,
   "metadata": {},
   "outputs": [
    {
     "data": {
      "text/html": [
       "<div>\n",
       "<style scoped>\n",
       "    .dataframe tbody tr th:only-of-type {\n",
       "        vertical-align: middle;\n",
       "    }\n",
       "\n",
       "    .dataframe tbody tr th {\n",
       "        vertical-align: top;\n",
       "    }\n",
       "\n",
       "    .dataframe thead th {\n",
       "        text-align: right;\n",
       "    }\n",
       "</style>\n",
       "<table border=\"1\" class=\"dataframe\">\n",
       "  <thead>\n",
       "    <tr style=\"text-align: right;\">\n",
       "      <th></th>\n",
       "      <th>term</th>\n",
       "      <th>int_rate</th>\n",
       "      <th>installment</th>\n",
       "      <th>grade</th>\n",
       "      <th>sub_grade</th>\n",
       "      <th>home_ownership</th>\n",
       "      <th>annual_inc</th>\n",
       "      <th>issue_d</th>\n",
       "      <th>dti</th>\n",
       "      <th>application_type</th>\n",
       "      <th>loan_status_general</th>\n",
       "      <th>credit_time_in_years</th>\n",
       "      <th>total_loan_amount</th>\n",
       "      <th>installment_to_income</th>\n",
       "      <th>total_loan_to_income</th>\n",
       "    </tr>\n",
       "  </thead>\n",
       "  <tbody>\n",
       "    <tr>\n",
       "      <th>0</th>\n",
       "      <td>36</td>\n",
       "      <td>22.35</td>\n",
       "      <td>1151.16</td>\n",
       "      <td>D</td>\n",
       "      <td>D5</td>\n",
       "      <td>MORTGAGE</td>\n",
       "      <td>100000.0</td>\n",
       "      <td>2018-12-01</td>\n",
       "      <td>30.46</td>\n",
       "      <td>Joint App</td>\n",
       "      <td>fully_paid</td>\n",
       "      <td>6.92</td>\n",
       "      <td>2108.373804</td>\n",
       "      <td>13.813920</td>\n",
       "      <td>0.702791</td>\n",
       "    </tr>\n",
       "    <tr>\n",
       "      <th>1</th>\n",
       "      <td>60</td>\n",
       "      <td>16.14</td>\n",
       "      <td>975.71</td>\n",
       "      <td>C</td>\n",
       "      <td>C4</td>\n",
       "      <td>MORTGAGE</td>\n",
       "      <td>45000.0</td>\n",
       "      <td>2018-12-01</td>\n",
       "      <td>50.53</td>\n",
       "      <td>Joint App</td>\n",
       "      <td>fully_paid</td>\n",
       "      <td>9.50</td>\n",
       "      <td>2061.720858</td>\n",
       "      <td>26.018933</td>\n",
       "      <td>0.916320</td>\n",
       "    </tr>\n",
       "    <tr>\n",
       "      <th>2</th>\n",
       "      <td>36</td>\n",
       "      <td>7.56</td>\n",
       "      <td>622.68</td>\n",
       "      <td>A</td>\n",
       "      <td>A3</td>\n",
       "      <td>MORTGAGE</td>\n",
       "      <td>100000.0</td>\n",
       "      <td>2018-12-01</td>\n",
       "      <td>18.92</td>\n",
       "      <td>Joint App</td>\n",
       "      <td>fully_paid</td>\n",
       "      <td>19.83</td>\n",
       "      <td>774.849393</td>\n",
       "      <td>7.472160</td>\n",
       "      <td>0.258283</td>\n",
       "    </tr>\n",
       "    <tr>\n",
       "      <th>3</th>\n",
       "      <td>36</td>\n",
       "      <td>11.31</td>\n",
       "      <td>147.99</td>\n",
       "      <td>B</td>\n",
       "      <td>B3</td>\n",
       "      <td>RENT</td>\n",
       "      <td>38500.0</td>\n",
       "      <td>2018-12-01</td>\n",
       "      <td>4.64</td>\n",
       "      <td>Individual</td>\n",
       "      <td>fully_paid</td>\n",
       "      <td>15.00</td>\n",
       "      <td>204.096200</td>\n",
       "      <td>4.612675</td>\n",
       "      <td>0.176707</td>\n",
       "    </tr>\n",
       "    <tr>\n",
       "      <th>4</th>\n",
       "      <td>36</td>\n",
       "      <td>27.27</td>\n",
       "      <td>345.18</td>\n",
       "      <td>E</td>\n",
       "      <td>E5</td>\n",
       "      <td>MORTGAGE</td>\n",
       "      <td>155000.0</td>\n",
       "      <td>2018-12-01</td>\n",
       "      <td>12.37</td>\n",
       "      <td>Joint App</td>\n",
       "      <td>fully_paid</td>\n",
       "      <td>21.17</td>\n",
       "      <td>711.580039</td>\n",
       "      <td>2.672361</td>\n",
       "      <td>0.153028</td>\n",
       "    </tr>\n",
       "  </tbody>\n",
       "</table>\n",
       "</div>"
      ],
      "text/plain": [
       "   term  int_rate  installment grade sub_grade home_ownership  annual_inc  \\\n",
       "0    36     22.35      1151.16     D        D5       MORTGAGE    100000.0   \n",
       "1    60     16.14       975.71     C        C4       MORTGAGE     45000.0   \n",
       "2    36      7.56       622.68     A        A3       MORTGAGE    100000.0   \n",
       "3    36     11.31       147.99     B        B3           RENT     38500.0   \n",
       "4    36     27.27       345.18     E        E5       MORTGAGE    155000.0   \n",
       "\n",
       "      issue_d    dti application_type loan_status_general  \\\n",
       "0  2018-12-01  30.46        Joint App          fully_paid   \n",
       "1  2018-12-01  50.53        Joint App          fully_paid   \n",
       "2  2018-12-01  18.92        Joint App          fully_paid   \n",
       "3  2018-12-01   4.64       Individual          fully_paid   \n",
       "4  2018-12-01  12.37        Joint App          fully_paid   \n",
       "\n",
       "   credit_time_in_years  total_loan_amount  installment_to_income  \\\n",
       "0                  6.92        2108.373804              13.813920   \n",
       "1                  9.50        2061.720858              26.018933   \n",
       "2                 19.83         774.849393               7.472160   \n",
       "3                 15.00         204.096200               4.612675   \n",
       "4                 21.17         711.580039               2.672361   \n",
       "\n",
       "   total_loan_to_income  \n",
       "0              0.702791  \n",
       "1              0.916320  \n",
       "2              0.258283  \n",
       "3              0.176707  \n",
       "4              0.153028  "
      ]
     },
     "execution_count": 3,
     "metadata": {},
     "output_type": "execute_result"
    }
   ],
   "source": [
    "df_loan = pd.read_csv(\"../data/preprocessed/df_loan_filtered.csv\")\n",
    "df_loan.head(5)"
   ]
  },
  {
   "cell_type": "markdown",
   "metadata": {},
   "source": [
    "## Pipelines"
   ]
  },
  {
   "cell_type": "markdown",
   "metadata": {},
   "source": [
    "Let's start with preprocessing pipelines. Since I will try three different model concepts: linear, boosting and bagging, they will require different strategies of preprocessing. Logistic Regression models need to use OneHotEncoder for discrete variables while LabelEncode is sufficient for boosting and bagging trees. Linear models also needs data to be scaled as well."
   ]
  },
  {
   "cell_type": "code",
   "execution_count": 4,
   "metadata": {},
   "outputs": [],
   "source": [
    "imputer = SimpleImputer(strategy='median')\n",
    "scaler = StandardScaler()\n",
    "ohc = OneHotEncoder(handle_unknown='ignore', sparse=True)\n",
    "\n",
    "categorical_cols = [\"grade\", \"sub_grade\", \"home_ownership\", \"application_type\"]\n",
    "numeric_cols = df_loan.select_dtypes(exclude='object').columns.tolist()\n",
    "\n",
    "numeric_transformer = Pipeline(steps=[\n",
    "    (\"imputer\", imputer),\n",
    "    (\"scaler\", StandardScaler())\n",
    "])\n",
    "\n",
    "ohc_cols_pipeline = Pipeline(steps=[\n",
    "    (\"ohc\", ohc)\n",
    "])\n",
    "\n",
    "linear_ct = ColumnTransformer([\n",
    "    (\"new_features\", numeric_transformer, numeric_cols),\n",
    "    (\"categorical_cols\", ohc_cols_pipeline, categorical_cols)\n",
    "    ], \n",
    "    remainder='drop'\n",
    ")"
   ]
  },
  {
   "cell_type": "code",
   "execution_count": 5,
   "metadata": {},
   "outputs": [
    {
     "data": {
      "text/html": [
       "<div>\n",
       "<style scoped>\n",
       "    .dataframe tbody tr th:only-of-type {\n",
       "        vertical-align: middle;\n",
       "    }\n",
       "\n",
       "    .dataframe tbody tr th {\n",
       "        vertical-align: top;\n",
       "    }\n",
       "\n",
       "    .dataframe thead th {\n",
       "        text-align: right;\n",
       "    }\n",
       "</style>\n",
       "<table border=\"1\" class=\"dataframe\">\n",
       "  <thead>\n",
       "    <tr style=\"text-align: right;\">\n",
       "      <th></th>\n",
       "      <th>0</th>\n",
       "      <th>1</th>\n",
       "      <th>2</th>\n",
       "      <th>3</th>\n",
       "      <th>4</th>\n",
       "      <th>5</th>\n",
       "      <th>6</th>\n",
       "      <th>7</th>\n",
       "      <th>8</th>\n",
       "      <th>9</th>\n",
       "      <th>10</th>\n",
       "      <th>11</th>\n",
       "      <th>12</th>\n",
       "      <th>13</th>\n",
       "      <th>14</th>\n",
       "      <th>15</th>\n",
       "      <th>16</th>\n",
       "      <th>17</th>\n",
       "      <th>18</th>\n",
       "      <th>19</th>\n",
       "      <th>20</th>\n",
       "      <th>21</th>\n",
       "      <th>22</th>\n",
       "    </tr>\n",
       "  </thead>\n",
       "  <tbody>\n",
       "    <tr>\n",
       "      <th>0</th>\n",
       "      <td>-0.5</td>\n",
       "      <td>0.757587</td>\n",
       "      <td>1.340511</td>\n",
       "      <td>0.288701</td>\n",
       "      <td>0.442328</td>\n",
       "      <td>-1.355900</td>\n",
       "      <td>1.213771</td>\n",
       "      <td>0.343176</td>\n",
       "      <td>0.843002</td>\n",
       "      <td>0.0</td>\n",
       "      <td>0.0</td>\n",
       "      <td>0.0</td>\n",
       "      <td>1.0</td>\n",
       "      <td>0.0</td>\n",
       "      <td>0.0</td>\n",
       "      <td>0.0</td>\n",
       "      <td>0.0</td>\n",
       "      <td>1.0</td>\n",
       "      <td>0.0</td>\n",
       "      <td>1.0</td>\n",
       "      <td>0.0</td>\n",
       "      <td>0.0</td>\n",
       "      <td>1.0</td>\n",
       "    </tr>\n",
       "    <tr>\n",
       "      <th>1</th>\n",
       "      <td>2.0</td>\n",
       "      <td>-0.109783</td>\n",
       "      <td>0.872574</td>\n",
       "      <td>-1.002237</td>\n",
       "      <td>1.696925</td>\n",
       "      <td>-0.893417</td>\n",
       "      <td>1.153289</td>\n",
       "      <td>1.789515</td>\n",
       "      <td>1.531714</td>\n",
       "      <td>0.0</td>\n",
       "      <td>0.0</td>\n",
       "      <td>1.0</td>\n",
       "      <td>0.0</td>\n",
       "      <td>0.0</td>\n",
       "      <td>0.0</td>\n",
       "      <td>0.0</td>\n",
       "      <td>1.0</td>\n",
       "      <td>0.0</td>\n",
       "      <td>0.0</td>\n",
       "      <td>1.0</td>\n",
       "      <td>0.0</td>\n",
       "      <td>0.0</td>\n",
       "      <td>1.0</td>\n",
       "    </tr>\n",
       "    <tr>\n",
       "      <th>2</th>\n",
       "      <td>-0.5</td>\n",
       "      <td>-1.308179</td>\n",
       "      <td>-0.068981</td>\n",
       "      <td>0.288701</td>\n",
       "      <td>-0.279049</td>\n",
       "      <td>0.958308</td>\n",
       "      <td>-0.515034</td>\n",
       "      <td>-0.408346</td>\n",
       "      <td>-0.590705</td>\n",
       "      <td>1.0</td>\n",
       "      <td>0.0</td>\n",
       "      <td>0.0</td>\n",
       "      <td>0.0</td>\n",
       "      <td>0.0</td>\n",
       "      <td>1.0</td>\n",
       "      <td>0.0</td>\n",
       "      <td>0.0</td>\n",
       "      <td>0.0</td>\n",
       "      <td>0.0</td>\n",
       "      <td>1.0</td>\n",
       "      <td>0.0</td>\n",
       "      <td>0.0</td>\n",
       "      <td>1.0</td>\n",
       "    </tr>\n",
       "    <tr>\n",
       "      <th>3</th>\n",
       "      <td>-0.5</td>\n",
       "      <td>-0.784404</td>\n",
       "      <td>-1.335012</td>\n",
       "      <td>-1.154802</td>\n",
       "      <td>-1.171707</td>\n",
       "      <td>0.092497</td>\n",
       "      <td>-1.254969</td>\n",
       "      <td>-0.747206</td>\n",
       "      <td>-0.853820</td>\n",
       "      <td>0.0</td>\n",
       "      <td>1.0</td>\n",
       "      <td>0.0</td>\n",
       "      <td>0.0</td>\n",
       "      <td>0.0</td>\n",
       "      <td>0.0</td>\n",
       "      <td>1.0</td>\n",
       "      <td>0.0</td>\n",
       "      <td>0.0</td>\n",
       "      <td>0.0</td>\n",
       "      <td>0.0</td>\n",
       "      <td>1.0</td>\n",
       "      <td>1.0</td>\n",
       "      <td>0.0</td>\n",
       "    </tr>\n",
       "    <tr>\n",
       "      <th>4</th>\n",
       "      <td>-0.5</td>\n",
       "      <td>1.444779</td>\n",
       "      <td>-0.809092</td>\n",
       "      <td>1.579638</td>\n",
       "      <td>-0.688497</td>\n",
       "      <td>1.198512</td>\n",
       "      <td>-0.597058</td>\n",
       "      <td>-0.977140</td>\n",
       "      <td>-0.930192</td>\n",
       "      <td>0.0</td>\n",
       "      <td>0.0</td>\n",
       "      <td>0.0</td>\n",
       "      <td>0.0</td>\n",
       "      <td>1.0</td>\n",
       "      <td>0.0</td>\n",
       "      <td>0.0</td>\n",
       "      <td>0.0</td>\n",
       "      <td>0.0</td>\n",
       "      <td>1.0</td>\n",
       "      <td>1.0</td>\n",
       "      <td>0.0</td>\n",
       "      <td>0.0</td>\n",
       "      <td>1.0</td>\n",
       "    </tr>\n",
       "  </tbody>\n",
       "</table>\n",
       "</div>"
      ],
      "text/plain": [
       "     0         1         2         3         4         5         6         7  \\\n",
       "0 -0.5  0.757587  1.340511  0.288701  0.442328 -1.355900  1.213771  0.343176   \n",
       "1  2.0 -0.109783  0.872574 -1.002237  1.696925 -0.893417  1.153289  1.789515   \n",
       "2 -0.5 -1.308179 -0.068981  0.288701 -0.279049  0.958308 -0.515034 -0.408346   \n",
       "3 -0.5 -0.784404 -1.335012 -1.154802 -1.171707  0.092497 -1.254969 -0.747206   \n",
       "4 -0.5  1.444779 -0.809092  1.579638 -0.688497  1.198512 -0.597058 -0.977140   \n",
       "\n",
       "          8    9   10   11   12   13   14   15   16   17   18   19   20   21  \\\n",
       "0  0.843002  0.0  0.0  0.0  1.0  0.0  0.0  0.0  0.0  1.0  0.0  1.0  0.0  0.0   \n",
       "1  1.531714  0.0  0.0  1.0  0.0  0.0  0.0  0.0  1.0  0.0  0.0  1.0  0.0  0.0   \n",
       "2 -0.590705  1.0  0.0  0.0  0.0  0.0  1.0  0.0  0.0  0.0  0.0  1.0  0.0  0.0   \n",
       "3 -0.853820  0.0  1.0  0.0  0.0  0.0  0.0  1.0  0.0  0.0  0.0  0.0  1.0  1.0   \n",
       "4 -0.930192  0.0  0.0  0.0  0.0  1.0  0.0  0.0  0.0  0.0  1.0  1.0  0.0  0.0   \n",
       "\n",
       "    22  \n",
       "0  1.0  \n",
       "1  1.0  \n",
       "2  1.0  \n",
       "3  0.0  \n",
       "4  1.0  "
      ]
     },
     "execution_count": 5,
     "metadata": {},
     "output_type": "execute_result"
    }
   ],
   "source": [
    "pd.DataFrame(linear_ct.fit_transform(df_loan.head(5)))"
   ]
  },
  {
   "cell_type": "markdown",
   "metadata": {},
   "source": [
    "To work with trees, we need to label encoder categorical variables."
   ]
  },
  {
   "cell_type": "code",
   "execution_count": 6,
   "metadata": {},
   "outputs": [
    {
     "data": {
      "text/html": [
       "<div>\n",
       "<style scoped>\n",
       "    .dataframe tbody tr th:only-of-type {\n",
       "        vertical-align: middle;\n",
       "    }\n",
       "\n",
       "    .dataframe tbody tr th {\n",
       "        vertical-align: top;\n",
       "    }\n",
       "\n",
       "    .dataframe thead th {\n",
       "        text-align: right;\n",
       "    }\n",
       "</style>\n",
       "<table border=\"1\" class=\"dataframe\">\n",
       "  <thead>\n",
       "    <tr style=\"text-align: right;\">\n",
       "      <th></th>\n",
       "      <th>term</th>\n",
       "      <th>int_rate</th>\n",
       "      <th>installment</th>\n",
       "      <th>grade</th>\n",
       "      <th>sub_grade</th>\n",
       "      <th>home_ownership</th>\n",
       "      <th>annual_inc</th>\n",
       "      <th>issue_d</th>\n",
       "      <th>dti</th>\n",
       "      <th>application_type</th>\n",
       "      <th>loan_status_general</th>\n",
       "      <th>credit_time_in_years</th>\n",
       "      <th>total_loan_amount</th>\n",
       "      <th>installment_to_income</th>\n",
       "      <th>total_loan_to_income</th>\n",
       "    </tr>\n",
       "  </thead>\n",
       "  <tbody>\n",
       "    <tr>\n",
       "      <th>0</th>\n",
       "      <td>36</td>\n",
       "      <td>22.35</td>\n",
       "      <td>1151.16</td>\n",
       "      <td>D</td>\n",
       "      <td>D5</td>\n",
       "      <td>MORTGAGE</td>\n",
       "      <td>100000.0</td>\n",
       "      <td>2018-12-01</td>\n",
       "      <td>30.46</td>\n",
       "      <td>Joint App</td>\n",
       "      <td>fully_paid</td>\n",
       "      <td>6.92</td>\n",
       "      <td>2108.373804</td>\n",
       "      <td>13.813920</td>\n",
       "      <td>0.702791</td>\n",
       "    </tr>\n",
       "    <tr>\n",
       "      <th>1</th>\n",
       "      <td>60</td>\n",
       "      <td>16.14</td>\n",
       "      <td>975.71</td>\n",
       "      <td>C</td>\n",
       "      <td>C4</td>\n",
       "      <td>MORTGAGE</td>\n",
       "      <td>45000.0</td>\n",
       "      <td>2018-12-01</td>\n",
       "      <td>50.53</td>\n",
       "      <td>Joint App</td>\n",
       "      <td>fully_paid</td>\n",
       "      <td>9.50</td>\n",
       "      <td>2061.720858</td>\n",
       "      <td>26.018933</td>\n",
       "      <td>0.916320</td>\n",
       "    </tr>\n",
       "    <tr>\n",
       "      <th>2</th>\n",
       "      <td>36</td>\n",
       "      <td>7.56</td>\n",
       "      <td>622.68</td>\n",
       "      <td>A</td>\n",
       "      <td>A3</td>\n",
       "      <td>MORTGAGE</td>\n",
       "      <td>100000.0</td>\n",
       "      <td>2018-12-01</td>\n",
       "      <td>18.92</td>\n",
       "      <td>Joint App</td>\n",
       "      <td>fully_paid</td>\n",
       "      <td>19.83</td>\n",
       "      <td>774.849393</td>\n",
       "      <td>7.472160</td>\n",
       "      <td>0.258283</td>\n",
       "    </tr>\n",
       "    <tr>\n",
       "      <th>3</th>\n",
       "      <td>36</td>\n",
       "      <td>11.31</td>\n",
       "      <td>147.99</td>\n",
       "      <td>B</td>\n",
       "      <td>B3</td>\n",
       "      <td>RENT</td>\n",
       "      <td>38500.0</td>\n",
       "      <td>2018-12-01</td>\n",
       "      <td>4.64</td>\n",
       "      <td>Individual</td>\n",
       "      <td>fully_paid</td>\n",
       "      <td>15.00</td>\n",
       "      <td>204.096200</td>\n",
       "      <td>4.612675</td>\n",
       "      <td>0.176707</td>\n",
       "    </tr>\n",
       "  </tbody>\n",
       "</table>\n",
       "</div>"
      ],
      "text/plain": [
       "   term  int_rate  installment grade sub_grade home_ownership  annual_inc  \\\n",
       "0    36     22.35      1151.16     D        D5       MORTGAGE    100000.0   \n",
       "1    60     16.14       975.71     C        C4       MORTGAGE     45000.0   \n",
       "2    36      7.56       622.68     A        A3       MORTGAGE    100000.0   \n",
       "3    36     11.31       147.99     B        B3           RENT     38500.0   \n",
       "\n",
       "      issue_d    dti application_type loan_status_general  \\\n",
       "0  2018-12-01  30.46        Joint App          fully_paid   \n",
       "1  2018-12-01  50.53        Joint App          fully_paid   \n",
       "2  2018-12-01  18.92        Joint App          fully_paid   \n",
       "3  2018-12-01   4.64       Individual          fully_paid   \n",
       "\n",
       "   credit_time_in_years  total_loan_amount  installment_to_income  \\\n",
       "0                  6.92        2108.373804              13.813920   \n",
       "1                  9.50        2061.720858              26.018933   \n",
       "2                 19.83         774.849393               7.472160   \n",
       "3                 15.00         204.096200               4.612675   \n",
       "\n",
       "   total_loan_to_income  \n",
       "0              0.702791  \n",
       "1              0.916320  \n",
       "2              0.258283  \n",
       "3              0.176707  "
      ]
     },
     "execution_count": 6,
     "metadata": {},
     "output_type": "execute_result"
    }
   ],
   "source": [
    "df_loan.head(4)"
   ]
  },
  {
   "cell_type": "markdown",
   "metadata": {},
   "source": [
    "To finish, transform target variable. I will call a default application to be 1 and a fully_paid to be 0."
   ]
  },
  {
   "cell_type": "code",
   "execution_count": 7,
   "metadata": {},
   "outputs": [],
   "source": [
    "df_loan[\"loan_status_general\"] = df_loan[\"loan_status_general\"].apply(lambda x: 1 if x=='default' else 0)"
   ]
  },
  {
   "cell_type": "markdown",
   "metadata": {},
   "source": [
    "### Train-Test splits and Baseline model"
   ]
  },
  {
   "cell_type": "markdown",
   "metadata": {},
   "source": [
    "I've mentioned before that we can try different type of validation, usually is used a random validation, but we have in our data a temporal factor, and I think we should always validate our models based on time. Of course, I could do both, but I will choose temporal one because it seems more realistic. In a real scenario does not hurt trying both."
   ]
  },
  {
   "cell_type": "code",
   "execution_count": 8,
   "metadata": {},
   "outputs": [],
   "source": [
    "train_rand, test_rand = train_test_split(df_loan, test_size=0.20, random_state=20)\n",
    "train_temp, test_temp = train_test_split(df_loan.sort_values(by='issue_d', ascending=True), test_size=0.20, random_state=20, shuffle=False)"
   ]
  },
  {
   "cell_type": "code",
   "execution_count": 9,
   "metadata": {},
   "outputs": [
    {
     "name": "stderr",
     "output_type": "stream",
     "text": [
      "INFO:numexpr.utils:NumExpr defaulting to 8 threads.\n"
     ]
    },
    {
     "data": {
      "text/html": [
       "<div>\n",
       "<style scoped>\n",
       "    .dataframe tbody tr th:only-of-type {\n",
       "        vertical-align: middle;\n",
       "    }\n",
       "\n",
       "    .dataframe tbody tr th {\n",
       "        vertical-align: top;\n",
       "    }\n",
       "\n",
       "    .dataframe thead th {\n",
       "        text-align: right;\n",
       "    }\n",
       "</style>\n",
       "<table border=\"1\" class=\"dataframe\">\n",
       "  <thead>\n",
       "    <tr style=\"text-align: right;\">\n",
       "      <th></th>\n",
       "      <th>train_distribution</th>\n",
       "      <th>test_distribution</th>\n",
       "    </tr>\n",
       "  </thead>\n",
       "  <tbody>\n",
       "    <tr>\n",
       "      <th>0</th>\n",
       "      <td>0.798433</td>\n",
       "      <td>0.735926</td>\n",
       "    </tr>\n",
       "    <tr>\n",
       "      <th>1</th>\n",
       "      <td>0.201567</td>\n",
       "      <td>0.264074</td>\n",
       "    </tr>\n",
       "  </tbody>\n",
       "</table>\n",
       "</div>"
      ],
      "text/plain": [
       "   train_distribution  test_distribution\n",
       "0            0.798433           0.735926\n",
       "1            0.201567           0.264074"
      ]
     },
     "execution_count": 9,
     "metadata": {},
     "output_type": "execute_result"
    }
   ],
   "source": [
    "pd.DataFrame({'train_distribution': train_temp['loan_status_general'].value_counts(normalize=True),\n",
    "             'test_distribution':test_temp['loan_status_general'].value_counts(normalize=True)})"
   ]
  },
  {
   "cell_type": "code",
   "execution_count": 10,
   "metadata": {},
   "outputs": [
    {
     "data": {
      "text/html": [
       "<div>\n",
       "<style scoped>\n",
       "    .dataframe tbody tr th:only-of-type {\n",
       "        vertical-align: middle;\n",
       "    }\n",
       "\n",
       "    .dataframe tbody tr th {\n",
       "        vertical-align: top;\n",
       "    }\n",
       "\n",
       "    .dataframe thead th {\n",
       "        text-align: right;\n",
       "    }\n",
       "</style>\n",
       "<table border=\"1\" class=\"dataframe\">\n",
       "  <thead>\n",
       "    <tr style=\"text-align: right;\">\n",
       "      <th></th>\n",
       "      <th>train_distribution</th>\n",
       "      <th>test_distribution</th>\n",
       "    </tr>\n",
       "  </thead>\n",
       "  <tbody>\n",
       "    <tr>\n",
       "      <th>0</th>\n",
       "      <td>0.785923</td>\n",
       "      <td>0.785965</td>\n",
       "    </tr>\n",
       "    <tr>\n",
       "      <th>1</th>\n",
       "      <td>0.214077</td>\n",
       "      <td>0.214035</td>\n",
       "    </tr>\n",
       "  </tbody>\n",
       "</table>\n",
       "</div>"
      ],
      "text/plain": [
       "   train_distribution  test_distribution\n",
       "0            0.785923           0.785965\n",
       "1            0.214077           0.214035"
      ]
     },
     "execution_count": 10,
     "metadata": {},
     "output_type": "execute_result"
    }
   ],
   "source": [
    "pd.DataFrame({'train_distribution': train_rand['loan_status_general'].value_counts(normalize=True),\n",
    "             'test_distribution':test_rand['loan_status_general'].value_counts(normalize=True)})"
   ]
  },
  {
   "cell_type": "markdown",
   "metadata": {},
   "source": [
    "We can already see their difference regarding test distribution, and since in any real scenario I would train models with data up to today to predict tomorrow, why not simulate that in the past as well? \n",
    "\n",
    "I also would like to point out other problems such as gap time between default and when an application is proceed, because earlier we defined late to be a default as well."
   ]
  },
  {
   "cell_type": "markdown",
   "metadata": {},
   "source": [
    "Before starting any type of modelling process, we need to define a baseline model. In classification tasks usually baseline means predicting every instance in your test data using the majority class, in this case, 0 (fully paid application).\n",
    "\n",
    "From distribution above, if we just predicted everyone to be a fully paid application, we would get an accuracy of 73% based on test data. So this is our baseline for accuracy metric, however, since we discussed it in this introduction, we have a problem regarding imbalance dataset, so we need to optimize other kind of metrics and curves such as precision, recall, f1-score, ROC and so on. Let's calculate how other relevant metrics would get for a simple baseline model."
   ]
  },
  {
   "cell_type": "code",
   "execution_count": 11,
   "metadata": {},
   "outputs": [
    {
     "name": "stderr",
     "output_type": "stream",
     "text": [
      "/home/v086200/anaconda3/envs/ifood/lib/python3.7/site-packages/sklearn/metrics/_classification.py:1272: UndefinedMetricWarning: Precision and F-score are ill-defined and being set to 0.0 in labels with no predicted samples. Use `zero_division` parameter to control this behavior.\n",
      "  _warn_prf(average, modifier, msg_start, len(result))\n"
     ]
    },
    {
     "name": "stdout",
     "output_type": "stream",
     "text": [
      "              precision    recall  f1-score   support\n",
      "\n",
      "           0       0.74      1.00      0.85    195504\n",
      "           1       0.00      0.00      0.00     70153\n",
      "\n",
      "    accuracy                           0.74    265657\n",
      "   macro avg       0.37      0.50      0.42    265657\n",
      "weighted avg       0.54      0.74      0.62    265657\n",
      "\n"
     ]
    }
   ],
   "source": [
    "predictions = np.zeros(test_temp.shape[0])\n",
    "print(classification_report(test_temp['loan_status_general'], predictions))"
   ]
  },
  {
   "cell_type": "markdown",
   "metadata": {},
   "source": [
    "### Model Definition\n",
    "\n",
    "We need to define a model that will have a good predictive power in our data. To accomplish that, we need to define and test different models performance. Beyond that, we also need to deal with imbalanced target data, and we will do that using sampling techniques, such as oversampling and undersampling. But I also will use models with no sampling, so we have a lot of models to try, let's start it."
   ]
  },
  {
   "cell_type": "code",
   "execution_count": 12,
   "metadata": {},
   "outputs": [],
   "source": [
    "target = 'loan_status_general'\n",
    "features = [col for col in df_loan.columns if col not in [target, 'issue_d']]\n",
    "\n",
    "train_temp, test_temp = label_encoder(train_temp, test_temp, columns=categorical_cols)"
   ]
  },
  {
   "cell_type": "markdown",
   "metadata": {},
   "source": [
    "#### Raw Models\n",
    "\n",
    "What I call raw pipelines here are models with no sampling technique aggregated to it. I will try three models only: Random Forests (Bagging), Gradient Boosting (LGBM) and Logistic Regression (Linear). These models were chosen because they represent different approaches inside machine learning, they are very robust and well studied. Also, it is always good to compare linear and non-linear models."
   ]
  },
  {
   "cell_type": "code",
   "execution_count": 13,
   "metadata": {},
   "outputs": [],
   "source": [
    "lr_pipeline = make_pipeline(linear_ct,\n",
    "                            LogisticRegression(max_iter=10_000))\n",
    "\n",
    "rf_pipeline = make_pipeline(SimpleImputer(strategy='median'), RandomForestClassifier())\n",
    "lgbm_pipeline = make_pipeline(LGBMClassifier())"
   ]
  },
  {
   "cell_type": "markdown",
   "metadata": {},
   "source": [
    "### Sampling Methods"
   ]
  },
  {
   "cell_type": "markdown",
   "metadata": {},
   "source": [
    "#### Oversampling\n",
    "\n",
    " - **Random Oversampling**: essentially, this technique increases minority class by randomly sampling it.\n",
    " - **SMOTE**: random oversampling has a ovelgbmitting problem as we are just replicating data considerably. To overcome that, smote works, in a simplified way, interpolating points on the feature space for nearest neighbors in minority classes."
   ]
  },
  {
   "cell_type": "code",
   "execution_count": 14,
   "metadata": {},
   "outputs": [],
   "source": [
    "lr_pipeline_ro = imb_pipeline.make_pipeline(linear_ct, RandomOverSampler(), LogisticRegression())\n",
    "rf_pipeline_ro = imb_pipeline.make_pipeline(SimpleImputer(strategy='median'), RandomOverSampler(), RandomForestClassifier())\n",
    "lgbm_pipeline_ro = imb_pipeline.make_pipeline(RandomOverSampler(), LGBMClassifier())"
   ]
  },
  {
   "cell_type": "code",
   "execution_count": 15,
   "metadata": {},
   "outputs": [],
   "source": [
    "lr_pipeline_smote = imb_pipeline.make_pipeline(linear_ct, SMOTE(), LogisticRegression(max_iter=10_000))\n",
    "rf_pipeline_smote = imb_pipeline.make_pipeline(SimpleImputer(strategy='median'), SMOTENC(categorical_features=[23, 25]), RandomForestClassifier())\n",
    "lgbm_pipeline_smote = imb_pipeline.make_pipeline(SimpleImputer(strategy='median'), SMOTENC(categorical_features=[23, 25]), LGBMClassifier())"
   ]
  },
  {
   "cell_type": "markdown",
   "metadata": {},
   "source": [
    "### Undersampling"
   ]
  },
  {
   "cell_type": "markdown",
   "metadata": {},
   "source": [
    "For undersampling techniques, we will also choose three of the most famous and assess results.\n",
    " - **Random Undersampling:** this method simple undersample the majority class. We can loss information, but if points are close, it can give good results\n",
    " - **NearMiss**: In a simplified way, this model selects the closest points to the minority class."
   ]
  },
  {
   "cell_type": "code",
   "execution_count": 16,
   "metadata": {},
   "outputs": [],
   "source": [
    "lr_pipeline_ru = imb_pipeline.make_pipeline(linear_ct, RandomUnderSampler(), LogisticRegression())\n",
    "rf_pipeline_ru = imb_pipeline.make_pipeline(SimpleImputer(strategy='mean'), RandomUnderSampler(), RandomForestClassifier())\n",
    "lgbm_pipeline_ru = imb_pipeline.make_pipeline(RandomUnderSampler(), LGBMClassifier())"
   ]
  },
  {
   "cell_type": "code",
   "execution_count": 17,
   "metadata": {},
   "outputs": [],
   "source": [
    "lr_pipeline_nm = imb_pipeline.make_pipeline(linear_ct, NearMiss(), LogisticRegression())\n",
    "rf_pipeline_nm = imb_pipeline.make_pipeline(SimpleImputer(strategy='mean'), NearMiss(), RandomForestClassifier())\n",
    "lgbm_pipeline_nm = imb_pipeline.make_pipeline(SimpleImputer(strategy='mean'), NearMiss(), LGBMClassifier())"
   ]
  },
  {
   "cell_type": "markdown",
   "metadata": {},
   "source": [
    "## Model Training and Hyperparameter Tuning\n",
    "\n",
    "Now that all our pipelines are defined, we can start training our models and tune hyperparameter. I will tune parameters using cross-validation inside training data, for now I will optimize and choose best model based on f1_score that takes into account both recall and precision.\n",
    "\n",
    "Also, it is important to notice that I will not do here an exhaustive tuning, this just for demonstrating purposes."
   ]
  },
  {
   "cell_type": "code",
   "execution_count": 20,
   "metadata": {},
   "outputs": [],
   "source": [
    "train_cv_temp, test_cv_temp = train_test_split(train_temp.sort_values(by='issue_d').sample(frac=0.01), random_state=20, shuffle=False, test_size=0.2)\n",
    "\n",
    "def temporal_cv():\n",
    "    yield train_cv_temp.reset_index().index, test_cv_temp.reset_index().index"
   ]
  },
  {
   "cell_type": "code",
   "execution_count": 21,
   "metadata": {},
   "outputs": [
    {
     "data": {
      "text/plain": [
       "((8500, 15), (2126, 15))"
      ]
     },
     "execution_count": 21,
     "metadata": {},
     "output_type": "execute_result"
    }
   ],
   "source": [
    "train_cv_temp.shape, test_cv_temp.shape"
   ]
  },
  {
   "cell_type": "markdown",
   "metadata": {},
   "source": [
    "### Logistic Regression Models"
   ]
  },
  {
   "cell_type": "code",
   "execution_count": 22,
   "metadata": {},
   "outputs": [],
   "source": [
    "scoring = {\n",
    "    'recall': make_scorer(recall_score),\n",
    "    'precision': make_scorer(precision_score),\n",
    "    'f1_score': make_scorer(f1_score)\n",
    "    }\n",
    "\n",
    "lr_param_grid = {\n",
    "    'logisticregression__solver':['liblinear'],\n",
    "    'logisticregression__penalty': ('l1', 'l2'),\n",
    "    'logisticregression__C':(0.1, 1, 5, 10, 50),\n",
    "    'logisticregression__class_weight':('balanced', None)\n",
    "}\n",
    "\n",
    "lr_cv = GridSearchCV(lr_pipeline, scoring=scoring, param_grid=lr_param_grid, cv=temporal_cv(), refit='f1_score', n_jobs=-1)\n",
    "lr_cv.fit(train_temp[features], train_temp[target]);"
   ]
  },
  {
   "cell_type": "code",
   "execution_count": 23,
   "metadata": {},
   "outputs": [],
   "source": [
    "lr_ro_cv = GridSearchCV(lr_pipeline_ro, scoring=scoring, param_grid=lr_param_grid, cv=temporal_cv(), refit='f1_score', n_jobs=-1)\n",
    "lr_ro_cv.fit(train_temp[features], train_temp[target]);"
   ]
  },
  {
   "cell_type": "code",
   "execution_count": null,
   "metadata": {},
   "outputs": [],
   "source": [
    "lr_smote_cv = GridSearchCV(lr_pipeline_smote, scoring=scoring, param_grid=lr_param_grid, cv=temporal_cv(), refit='f1_score')\n",
    "lr_smote_cv.fit(train_temp[features], train_temp[target]);"
   ]
  },
  {
   "cell_type": "code",
   "execution_count": null,
   "metadata": {},
   "outputs": [],
   "source": [
    "lr_ru_cv = GridSearchCV(lr_pipeline_ru, scoring=scoring, param_grid=lr_param_grid, cv=temporal_cv(), refit='f1_score')\n",
    "lr_ru_cv.fit(train_temp[features], train_temp[target]);"
   ]
  },
  {
   "cell_type": "code",
   "execution_count": null,
   "metadata": {},
   "outputs": [],
   "source": [
    "lr_nm_cv = GridSearchCV(lr_pipeline_nm, scoring=scoring, param_grid=lr_param_grid, cv=temporal_cv(), refit='f1_score')\n",
    "lr_nm_cv.fit(train_temp[features], train_temp[target]);"
   ]
  },
  {
   "cell_type": "code",
   "execution_count": null,
   "metadata": {},
   "outputs": [],
   "source": [
    "logistic_cv_models = {\"LR\": lr_cv, \"LR_RO\": lr_ro_cv, \"LR_SMOTE\": lr_smote_cv, \"LR_RU\": lr_ru_cv, \"LR_NM\": lr_nm_cv}"
   ]
  },
  {
   "cell_type": "code",
   "execution_count": null,
   "metadata": {},
   "outputs": [],
   "source": [
    "def return_table_results(model):\n",
    "    return pd.DataFrame({\"Parameters\": model.best_params_, \"Score\": model.best_score_})\n",
    "    \n",
    "for lr_name, lr_model in logistic_cv_models.items():\n",
    "    print(f\"Summary resuls for model: {lr_name}\")\n",
    "    print(return_table_results(lr_model))\n",
    "    print(\"-\"*78)"
   ]
  },
  {
   "cell_type": "markdown",
   "metadata": {},
   "source": [
    "### Random Forest Models"
   ]
  },
  {
   "cell_type": "code",
   "execution_count": 24,
   "metadata": {},
   "outputs": [],
   "source": [
    "rf_param_grid = {\n",
    "    'randomforestclassifier__n_estimators': [100],\n",
    "    'randomforestclassifier__max_depth':[10, 20],\n",
    "    'randomforestclassifier__max_features':[0.5, 0.85],\n",
    "    'randomforestclassifier__bootstrap':[False, True],\n",
    "    # 'randomforestclassifier__min_samples_leaf':[1, 5],\n",
    "    'randomforestclassifier__class_weight':[None, 'balanced']\n",
    "}\n",
    "\n",
    "rf_cv = GridSearchCV(rf_pipeline, scoring=scoring, param_grid=rf_param_grid, cv=temporal_cv(), refit='f1_score')\n",
    "rf_cv.fit(train_temp[features], train_temp[target]);"
   ]
  },
  {
   "cell_type": "code",
   "execution_count": 50,
   "metadata": {},
   "outputs": [],
   "source": [
    "rf_ro_cv = GridSearchCV(rf_pipeline_ro, scoring=scoring, param_grid=rf_param_grid, cv=temporal_cv(), refit='f1_score')\n",
    "rf_ro_cv.fit(train_temp[features], train_temp[target]);"
   ]
  },
  {
   "cell_type": "code",
   "execution_count": null,
   "metadata": {},
   "outputs": [],
   "source": [
    "rf_smote_cv = GridSearchCV(rf_pipeline_smote, scoring=scoring, param_grid=rf_param_grid, cv=temporal_cv(), refit='f1_score')\n",
    "rf_smote_cv.fit(train_temp[features], train_temp[target]);"
   ]
  },
  {
   "cell_type": "code",
   "execution_count": 27,
   "metadata": {},
   "outputs": [],
   "source": [
    "rf_ru_cv = GridSearchCV(rf_pipeline_ru, scoring=scoring, param_grid=rf_param_grid, cv=temporal_cv(), refit='f1_score')\n",
    "rf_ru_cv.fit(train_temp[features], train_temp[target]);"
   ]
  },
  {
   "cell_type": "code",
   "execution_count": null,
   "metadata": {},
   "outputs": [],
   "source": [
    "rf_nm_cv = GridSearchCV(rf_pipeline_nm, scoring=scoring, param_grid=rf_param_grid, cv=temporal_cv(), refit='f1_score')\n",
    "rf_nm_cv.fit(train_temp[features], train_temp[target]);"
   ]
  },
  {
   "cell_type": "markdown",
   "metadata": {},
   "source": [
    "### Gradient Boosting Models"
   ]
  },
  {
   "cell_type": "code",
   "execution_count": 30,
   "metadata": {},
   "outputs": [],
   "source": [
    "lgbm_param_grid = {\n",
    "    'lgbmclassifier__n_estimators': [50, 100, 150],\n",
    "    'lgbmclassifier__learning_rate': [0.1, 0.9, 0.01],\n",
    "    'lgbmclassifier__max_depth':[5, 10],\n",
    "    'lgbmclassifier__subsample':[0.7, 1.0],\n",
    "    'lgbmclassifier__max_features':[0.5, 1.0],\n",
    "    'lgbmclassifier__min_samples_leaf':[5],\n",
    "    'lgbmclassifier__class_weight':[None, 'balanced']\n",
    "}\n",
    "\n",
    "lgbm_cv = GridSearchCV(lgbm_pipeline, scoring=scoring, param_grid=lgbm_param_grid, cv=temporal_cv(), refit='f1_score', n_jobs=-1)\n",
    "lgbm_cv.fit(train_temp[features], train_temp[target]);"
   ]
  },
  {
   "cell_type": "code",
   "execution_count": 31,
   "metadata": {},
   "outputs": [],
   "source": [
    "lgbm_ro_cv = GridSearchCV(lgbm_pipeline_ro, scoring=scoring, param_grid=lgbm_param_grid, cv=temporal_cv(), refit='f1_score', n_jobs=-1)\n",
    "lgbm_ro_cv.fit(train_temp[features], train_temp[target]);"
   ]
  },
  {
   "cell_type": "code",
   "execution_count": null,
   "metadata": {},
   "outputs": [],
   "source": [
    "lgbm_smote_cv = GridSearchCV(lgbm_pipeline_smote, scoring=scoring, param_grid=lgbm_param_grid, cv=3, refit='f1_score')\n",
    "lgbm_smote_cv.fit(train[features], train[target]);"
   ]
  },
  {
   "cell_type": "code",
   "execution_count": null,
   "metadata": {},
   "outputs": [],
   "source": [
    "lgbm_ru_cv = GridSearchCV(lgbm_pipeline_ru, scoring=scoring, param_grid=lgbm_param_grid, cv=3, refit='f1_score')\n",
    "lgbm_ru_cv.fit(train[features], train[target]);"
   ]
  },
  {
   "cell_type": "code",
   "execution_count": null,
   "metadata": {},
   "outputs": [],
   "source": [
    "lgbm_nm_cv = GridSearchCV(lgbm_pipeline_nm, scoring=scoring, param_grid=lgbm_param_grid, cv=3, refit='f1_score')\n",
    "lgbm_nm_cv.fit(train[features], train[target]);"
   ]
  },
  {
   "cell_type": "code",
   "execution_count": null,
   "metadata": {},
   "outputs": [],
   "source": [
    "lgbm_cv_models = {\"lgbm\": lgbm_cv, \"lgbm_RO\": lgbm_ro_cv, \"lgbm_SMOTE\": lgbm_smote_cv, \"lgbm_RU\":lgbm_ru_cv, \"lgbm_NM\": lgbm_nm_cv}"
   ]
  },
  {
   "cell_type": "code",
   "execution_count": null,
   "metadata": {},
   "outputs": [],
   "source": [
    "for lgbm_name, lgbm_model in lgbm_cv_models.items():\n",
    "    print(f\"Summary resuls for model: {lgbm_name}\")\n",
    "    print(return_table_results(lgbm_model))\n",
    "    print(\"-\"*78)"
   ]
  },
  {
   "cell_type": "markdown",
   "metadata": {},
   "source": [
    "Unfortunately, due to the size of dataset and time to build the case, I couldn't do in time a hyperparameter tuning, so I will choose a few parameters based on past experience, and I think I demonstrated this step with code above. Also, we could use AutoMl, Bayesian Optimization or even RandomGrid that are strong and effective options for tuning."
   ]
  },
  {
   "cell_type": "markdown",
   "metadata": {},
   "source": [
    "## Result Analysis"
   ]
  },
  {
   "cell_type": "code",
   "execution_count": 33,
   "metadata": {},
   "outputs": [],
   "source": [
    "lr_pipeline_ro.set_params(**lr_ro_cv.best_params_)\n",
    "lr_pipeline.set_params(**lr_cv.best_params_)\n",
    "\n",
    "rf_pipeline.set_params(**rf_cv.best_params_)\n",
    "rf_pipeline_ru.set_params(**rf_ru_cv.best_params_)\n",
    "\n",
    "lgbm_pipeline.set_params(**lgbm_cv.best_params_)\n",
    "lgbm_pipeline_ro.set_params(**lgbm_ro_cv.best_params_)\n",
    "\n",
    "best_models = {\n",
    "    \"LR\": lr_pipeline,\n",
    "    \"LR_RO\": lr_pipeline_ro,\n",
    "    \"RF\": rf_pipeline,\n",
    "    \"RF_RU\": rf_pipeline_ru,\n",
    "    \"LGBM_RO\": lgbm_pipeline_ro,\n",
    "    \"LGBM\": lgbm_pipeline\n",
    "}\n",
    "\n",
    "for model in best_models.values():\n",
    "    model.fit(train_temp[features], train_temp[target])"
   ]
  },
  {
   "cell_type": "code",
   "execution_count": 42,
   "metadata": {},
   "outputs": [
    {
     "name": "stdout",
     "output_type": "stream",
     "text": [
      "Confusion matrix and classification report for model: LR_SMOTE\n",
      "              precision    recall  f1-score   support\n",
      "\n",
      "           0       0.83      0.64      0.72    195504\n",
      "           1       0.38      0.63      0.48     70153\n",
      "\n",
      "    accuracy                           0.64    265657\n",
      "   macro avg       0.61      0.63      0.60    265657\n",
      "weighted avg       0.71      0.64      0.66    265657\n",
      "\n"
     ]
    },
    {
     "name": "stderr",
     "output_type": "stream",
     "text": [
      "DEBUG:matplotlib.colorbar:locator: <matplotlib.colorbar._ColorbarAutoLocator object at 0x7fd1e424aad0>\n",
      "DEBUG:matplotlib.colorbar:Using auto colorbar locator on colorbar\n",
      "DEBUG:matplotlib.colorbar:locator: <matplotlib.colorbar._ColorbarAutoLocator object at 0x7fd1e424aad0>\n",
      "DEBUG:matplotlib.colorbar:Setting pcolormesh\n"
     ]
    },
    {
     "data": {
      "image/png": "[encoded data removed]",
      "text/plain": [
       "<Figure size 432x288 with 2 Axes>"
      ]
     },
     "metadata": {
      "needs_background": "light"
     },
     "output_type": "display_data"
    }
   ],
   "source": [
    "import logging\n",
    "\n",
    "logging.basicConfig(level=logging.NOTSET)\n",
    "from visualize import plot_confusion_matrix, plot_roc_curve\n",
    "\n",
    "def print_summary(model_name, model_pipeline):\n",
    "    print(f\"Confusion matrix and classification report for model: {model_name}\")\n",
    "    \n",
    "    y_pred = model_pipeline.predict(test_temp[features])\n",
    "    print(classification_report(test_temp[target], y_pred))\n",
    "    plot_confusion_matrix(model_pipeline, test_temp[features], test_temp[target], normalize=True)\n",
    "    \n",
    "print_summary(\"LR_SMOTE\", lr_pipeline)"
   ]
  },
  {
   "cell_type": "code",
   "execution_count": 43,
   "metadata": {},
   "outputs": [
    {
     "name": "stdout",
     "output_type": "stream",
     "text": [
      "Confusion matrix and classification report for model: LR_RO\n",
      "              precision    recall  f1-score   support\n",
      "\n",
      "           0       0.83      0.64      0.72    195504\n",
      "           1       0.38      0.63      0.48     70153\n",
      "\n",
      "    accuracy                           0.64    265657\n",
      "   macro avg       0.61      0.63      0.60    265657\n",
      "weighted avg       0.71      0.64      0.66    265657\n",
      "\n"
     ]
    },
    {
     "name": "stderr",
     "output_type": "stream",
     "text": [
      "DEBUG:matplotlib.colorbar:locator: <matplotlib.colorbar._ColorbarAutoLocator object at 0x7fd199d28450>\n",
      "DEBUG:matplotlib.colorbar:Using auto colorbar locator on colorbar\n",
      "DEBUG:matplotlib.colorbar:locator: <matplotlib.colorbar._ColorbarAutoLocator object at 0x7fd199d28450>\n",
      "DEBUG:matplotlib.colorbar:Setting pcolormesh\n"
     ]
    },
    {
     "data": {
      "image/png": "[encoded data removed]",
      "text/plain": [
       "<Figure size 432x288 with 2 Axes>"
      ]
     },
     "metadata": {
      "needs_background": "light"
     },
     "output_type": "display_data"
    }
   ],
   "source": [
    "print_summary(\"LR_RO\", lr_pipeline_ro)"
   ]
  },
  {
   "cell_type": "code",
   "execution_count": 44,
   "metadata": {},
   "outputs": [
    {
     "name": "stdout",
     "output_type": "stream",
     "text": [
      "Confusion matrix and classification report for model: RF_RO\n",
      "              precision    recall  f1-score   support\n",
      "\n",
      "           0       0.75      0.96      0.84    195504\n",
      "           1       0.50      0.11      0.18     70153\n",
      "\n",
      "    accuracy                           0.74    265657\n",
      "   macro avg       0.62      0.54      0.51    265657\n",
      "weighted avg       0.68      0.74      0.67    265657\n",
      "\n"
     ]
    },
    {
     "name": "stderr",
     "output_type": "stream",
     "text": [
      "DEBUG:matplotlib.colorbar:locator: <matplotlib.colorbar._ColorbarAutoLocator object at 0x7fd199c81c10>\n",
      "DEBUG:matplotlib.colorbar:Using auto colorbar locator on colorbar\n",
      "DEBUG:matplotlib.colorbar:locator: <matplotlib.colorbar._ColorbarAutoLocator object at 0x7fd199c81c10>\n",
      "DEBUG:matplotlib.colorbar:Setting pcolormesh\n"
     ]
    },
    {
     "data": {
      "image/png": "[encoded data removed]",
      "text/plain": [
       "<Figure size 432x288 with 2 Axes>"
      ]
     },
     "metadata": {
      "needs_background": "light"
     },
     "output_type": "display_data"
    }
   ],
   "source": [
    "print_summary(\"RF\", rf_pipeline)"
   ]
  },
  {
   "cell_type": "code",
   "execution_count": 45,
   "metadata": {},
   "outputs": [
    {
     "name": "stdout",
     "output_type": "stream",
     "text": [
      "Confusion matrix and classification report for model: LR_SMOTE\n",
      "              precision    recall  f1-score   support\n",
      "\n",
      "           0       0.83      0.60      0.70    195504\n",
      "           1       0.37      0.65      0.47     70153\n",
      "\n",
      "    accuracy                           0.62    265657\n",
      "   macro avg       0.60      0.63      0.58    265657\n",
      "weighted avg       0.71      0.62      0.64    265657\n",
      "\n"
     ]
    },
    {
     "name": "stderr",
     "output_type": "stream",
     "text": [
      "DEBUG:matplotlib.colorbar:locator: <matplotlib.colorbar._ColorbarAutoLocator object at 0x7fd199c5acd0>\n",
      "DEBUG:matplotlib.colorbar:Using auto colorbar locator on colorbar\n",
      "DEBUG:matplotlib.colorbar:locator: <matplotlib.colorbar._ColorbarAutoLocator object at 0x7fd199c5acd0>\n",
      "DEBUG:matplotlib.colorbar:Setting pcolormesh\n"
     ]
    },
    {
     "data": {
      "image/png": "[encoded data removed]",
      "text/plain": [
       "<Figure size 432x288 with 2 Axes>"
      ]
     },
     "metadata": {
      "needs_background": "light"
     },
     "output_type": "display_data"
    }
   ],
   "source": [
    "print_summary(\"LR_SMOTE\", rf_pipeline_ru)"
   ]
  },
  {
   "cell_type": "code",
   "execution_count": 46,
   "metadata": {},
   "outputs": [
    {
     "name": "stdout",
     "output_type": "stream",
     "text": [
      "Confusion matrix and classification report for model: LGBM_RO\n",
      "              precision    recall  f1-score   support\n",
      "\n",
      "           0       0.81      0.62      0.70    195504\n",
      "           1       0.36      0.60      0.45     70153\n",
      "\n",
      "    accuracy                           0.61    265657\n",
      "   macro avg       0.59      0.61      0.58    265657\n",
      "weighted avg       0.69      0.61      0.64    265657\n",
      "\n"
     ]
    },
    {
     "name": "stderr",
     "output_type": "stream",
     "text": [
      "DEBUG:matplotlib.colorbar:locator: <matplotlib.colorbar._ColorbarAutoLocator object at 0x7fd199c3b4d0>\n",
      "DEBUG:matplotlib.colorbar:Using auto colorbar locator on colorbar\n",
      "DEBUG:matplotlib.colorbar:locator: <matplotlib.colorbar._ColorbarAutoLocator object at 0x7fd199c3b4d0>\n",
      "DEBUG:matplotlib.colorbar:Setting pcolormesh\n"
     ]
    },
    {
     "data": {
      "image/png": "[encoded data removed]",
      "text/plain": [
       "<Figure size 432x288 with 2 Axes>"
      ]
     },
     "metadata": {
      "needs_background": "light"
     },
     "output_type": "display_data"
    }
   ],
   "source": [
    "print_summary(\"LGBM_RO\", lgbm_pipeline_ro)"
   ]
  },
  {
   "cell_type": "code",
   "execution_count": 47,
   "metadata": {},
   "outputs": [
    {
     "name": "stdout",
     "output_type": "stream",
     "text": [
      "Confusion matrix and classification report for model: LGBM\n",
      "              precision    recall  f1-score   support\n",
      "\n",
      "           0       0.75      0.96      0.84    195504\n",
      "           1       0.48      0.11      0.18     70153\n",
      "\n",
      "    accuracy                           0.73    265657\n",
      "   macro avg       0.61      0.53      0.51    265657\n",
      "weighted avg       0.68      0.73      0.67    265657\n",
      "\n"
     ]
    },
    {
     "name": "stderr",
     "output_type": "stream",
     "text": [
      "DEBUG:matplotlib.colorbar:locator: <matplotlib.colorbar._ColorbarAutoLocator object at 0x7fd199ba6e90>\n",
      "DEBUG:matplotlib.colorbar:Using auto colorbar locator on colorbar\n",
      "DEBUG:matplotlib.colorbar:locator: <matplotlib.colorbar._ColorbarAutoLocator object at 0x7fd199ba6e90>\n",
      "DEBUG:matplotlib.colorbar:Setting pcolormesh\n"
     ]
    },
    {
     "data": {
      "image/png": "[encoded data removed]",
      "text/plain": [
       "<Figure size 432x288 with 2 Axes>"
      ]
     },
     "metadata": {
      "needs_background": "light"
     },
     "output_type": "display_data"
    }
   ],
   "source": [
    "print_summary(\"LGBM\", lgbm_pipeline)"
   ]
  },
  {
   "cell_type": "markdown",
   "metadata": {},
   "source": [
    "The classification report and confusion matrix above give us more information about model's performance than simply printing\n",
    "f1-score. We can see all metrics calculated for each class as well as how predictions are in terms of False Positive and False Negatives rates.\n",
    "\n",
    " - We can see how random forest and lightgbm alone cannot produce satisfactory results. They basically relies on predicting all instances as class zero. This demonstrates the effectiveness of using sampling techniques.\n",
    " - Logistic Regression model alone with class_balance parameter and random oversampling produced similar results.\n",
    " - Trade-off between recall and precision become clear here, when we increase recall, precision lowers for some class.\n",
    " \n",
    "We can continue our analysis now by using ROC and Precision-Recall curves. They are used when output of interest is transformed to be a score (probability) of a given instance belonging to one of the classes used. All algorithms used actually give you a score instead of label instance, where logistic regression models return actual probabilities! (RF and LGBM need to be calibrated in order to return true probabilities, which I will not do it here, I will just pretend they are balanced scores, you can read more about it [here](https://scikit-learn.org/stable/modules/calibration.html))\n",
    "\n",
    "At default, models output a class of label 1 if score is higher than 0.5, but we could change that. So basically, to motivate this we can think of two cases:\n",
    " - If threshold is chosen to be high, for example, around >0.8, we would have a lot of false negatives, i.e., predicting a propensity customer being a non-respondent.\n",
    " - On the other hand, if it is too relaxed, we would have a lot of false positives, i.e., we would say our customer are respondents when they are not actually.\n",
    " \n",
    "ROC and Precision-Recall curves deals with that. ROC plots TPR (True Positive Rate) vs. FPR (False Positive Rate), which is a balance between what we discussed above. Precision-Recall curves plot Precision vs Recall given threshold t. ROC curves are easier to analyze since Precision-Recall curve is not necessarily monotonic. Then to assess model performance, we can calculate AUC (Area Under the Curve).\n",
    "\n",
    "This is extremely useful for our case, because we want to rank our applicants instead of giving raw labels."
   ]
  },
  {
   "cell_type": "code",
   "execution_count": 83,
   "metadata": {},
   "outputs": [
    {
     "data": {
      "image/png": "[encoded data removed]",
      "text/plain": [
       "<Figure size 1440x720 with 1 Axes>"
      ]
     },
     "metadata": {
      "needs_background": "light"
     },
     "output_type": "display_data"
    }
   ],
   "source": [
    "import matplotlib.pyplot as plt\n",
    "import matplotlib.cm as cm\n",
    "\n",
    "fig, ax = plt.subplots(figsize=(20, 10))\n",
    "\n",
    "colors = ['darkcyan', 'darkorange', 'darkgrey', 'darkviolet', 'darkblue', 'darkolivegreen']\n",
    "for model_name, model_pipeline in best_models.items():\n",
    "    \n",
    "    y_score = model_pipeline.predict_proba(test_temp[features])[:, 1]\n",
    "    plot_roc_curve(test_temp[target], y_score, ax, color=colors.pop(), model_name=model_name)"
   ]
  },
  {
   "cell_type": "markdown",
   "metadata": {},
   "source": [
    "We calculate AUC because since we have overlapping curves, that is, one model can start better than other, but at some point they invert their position, becomes difficult to assess models' quality. Surprisingly, we can see that Logistic Regression model with class balanced paremeter achives best score. Followed by all boosting / bagging models."
   ]
  },
  {
   "cell_type": "markdown",
   "metadata": {},
   "source": [
    "## Business Optimization"
   ]
  },
  {
   "cell_type": "markdown",
   "metadata": {},
   "source": [
    "Up to now, we discussed our model assessment based on well-known scores used in ML world. However, we can and should give a sense of how these scores impact our business and the problem we want to solve. In one phrase: how much money do we expect in return for our models? To do that, we should build a cost-matrix, as the one shows below."
   ]
  },
  {
   "cell_type": "markdown",
   "metadata": {},
   "source": [
    "<table style=\"height: 146px; margin-left: auto; margin-right: auto;\" width=\"466\"><caption><strong>Cost Matrix for default prediction</strong></caption>\n",
    "<tbody>\n",
    "<tr>\n",
    "<td style=\"width: 148px;\">&nbsp;</td>\n",
    "<td style=\"width: 148px;\">Actual Default<br />y = 1</td>\n",
    "<td style=\"width: 148.667px;\">Actual Negative<br />y = 0</td>\n",
    "</tr>\n",
    "<tr>\n",
    "<td style=\"width: 148px;\">Predicted Default<br />y-hat = 1</td>\n",
    "<td style=\"width: 148px;\">Saving = <strong>total_loan_amount</strong> <strong>amount</strong></td>\n",
    "<td style=\"width: 148.667px;\">Cost = <strong>Customer</strong></td>\n",
    "</tr>\n",
    "<tr>\n",
    "<td style=\"width: 148px;\">Predicted Negative<br />y-hat = 0</td>\n",
    "<td style=\"width: 148px;\">Cost = Saving = <strong>total_loan_amount amount</strong></td>\n",
    "<td style=\"width: 148.667px;\">None&nbsp;</td>\n",
    "</tr>\n",
    "</tbody>\n",
    "</table>"
   ]
  },
  {
   "cell_type": "markdown",
   "metadata": {},
   "source": [
    "To simply, I assume the following:\n",
    " - If I classify a default application as a fully_paid one, incurred loss will be total loan amount.\n",
    " - If I classify a fully_paid application as a default one, I would loss a 10% that woul've come from transactions fees.\n",
    " - If I classify a fully_paid correctly, I would have a total profit of 10% in charges.\n",
    " - If I classify correctly a default case, I will say nothing happen. Although in reality would've been saving total_loan amount. But let keep things simple."
   ]
  },
  {
   "cell_type": "code",
   "execution_count": 74,
   "metadata": {},
   "outputs": [
    {
     "name": "stdout",
     "output_type": "stream",
     "text": [
      "+--------------------+----------------+--------------------------------------+\n",
      "|                    | Actual Default |           Actual Negative            |\n",
      "+--------------------+----------------+--------------------------------------+\n",
      "| Predicted Default  |  Savings:1.0   | Percentage of denied customers: 0.73 |\n",
      "| Predicted Negative |    Cost:0.0    |                  0                   |\n",
      "+--------------------+----------------+--------------------------------------+\n"
     ]
    }
   ],
   "source": [
    "from prettytable import PrettyTable\n",
    "\n",
    "def return_labels(model, X_test, threshold=0.5):\n",
    "    probabilities = model.predict_proba(test[features])\n",
    "    probabilities = probabilities[:, 1]\n",
    "    probabilities[probabilities <= threshold] = 0\n",
    "    probabilities[probabilities > threshold] = 1\n",
    "    return probabilities\n",
    "\n",
    "def print_cost_matrix(model, X_test, threshold=0.5):\n",
    "    test = X_test.copy()\n",
    "    \n",
    "    total_savings = test[test['loan_status_general']==1]['total_loan_amount'].sum()\n",
    "    test['predicted'] = return_labels(model, X_test, threshold)\n",
    "    \n",
    "    \n",
    "    savings = test[(test.predicted==1) & (test['loan_status_general']==1)]['total_loan_amount'].sum()\n",
    "    cost = test[(test.predicted==0) & (test['loan_status_general']==1)]['total_loan_amount'].sum()\n",
    "    cost_customers = test[(test.predicted==1) & (test['loan_status_general']==0)]['loan_status_general'].count()\n",
    "    \n",
    "    t = PrettyTable(['', 'Actual Default', 'Actual Negative'])\n",
    "    t.add_row(['Predicted Default', 'Savings:' + str(np.round(savings / total_savings, 3)), \n",
    "               'Percentage of denied customers: '+ str(np.round(cost_customers / test.shape[0], 3))])\n",
    "    t.add_row(['Predicted Negative', 'Cost:' + str(np.round(cost /  total_savings, 3)), 0])\n",
    "    print(t)\n",
    "    \n",
    "print_cost_matrix(lr_pipeline, test_temp, threshold=0.1)   "
   ]
  },
  {
   "cell_type": "markdown",
   "metadata": {},
   "source": [
    "Let's vary thrshold artifically so we can see the impact this parameter have on our business case."
   ]
  },
  {
   "cell_type": "code",
   "execution_count": 79,
   "metadata": {},
   "outputs": [
    {
     "name": "stdout",
     "output_type": "stream",
     "text": [
      "+--------------------+----------------+---------------------------------------+\n",
      "|                    | Actual Default |            Actual Negative            |\n",
      "+--------------------+----------------+---------------------------------------+\n",
      "| Predicted Default  | Savings:0.763  | Percentage of denied customers: 0.265 |\n",
      "| Predicted Negative |   Cost:0.237   |                   0                   |\n",
      "+--------------------+----------------+---------------------------------------+\n",
      "+--------------------+----------------+---------------------------------------+\n",
      "|                    | Actual Default |            Actual Negative            |\n",
      "+--------------------+----------------+---------------------------------------+\n",
      "| Predicted Default  |  Savings:0.55  | Percentage of denied customers: 0.129 |\n",
      "| Predicted Negative |   Cost:0.45    |                   0                   |\n",
      "+--------------------+----------------+---------------------------------------+\n",
      "+--------------------+----------------+--------------------------------------+\n",
      "|                    | Actual Default |           Actual Negative            |\n",
      "+--------------------+----------------+--------------------------------------+\n",
      "| Predicted Default  | Savings:0.181  | Percentage of denied customers: 0.02 |\n",
      "| Predicted Negative |   Cost:0.819   |                  0                   |\n",
      "+--------------------+----------------+--------------------------------------+\n",
      "+--------------------+----------------+---------------------------------------+\n",
      "|                    | Actual Default |            Actual Negative            |\n",
      "+--------------------+----------------+---------------------------------------+\n",
      "| Predicted Default  | Savings:0.099  | Percentage of denied customers: 0.009 |\n",
      "| Predicted Negative |   Cost:0.901   |                   0                   |\n",
      "+--------------------+----------------+---------------------------------------+\n",
      "+--------------------+----------------+---------------------------------------+\n",
      "|                    | Actual Default |            Actual Negative            |\n",
      "+--------------------+----------------+---------------------------------------+\n",
      "| Predicted Default  | Savings:0.016  | Percentage of denied customers: 0.002 |\n",
      "| Predicted Negative |   Cost:0.984   |                   0                   |\n",
      "+--------------------+----------------+---------------------------------------+\n"
     ]
    }
   ],
   "source": [
    "for threshold in [0.5, 0.6, 0.75, 0.8, 0.9]:\n",
    "    print_cost_matrix(lr_pipeline, test_temp, threshold=threshold)"
   ]
  },
  {
   "cell_type": "markdown",
   "metadata": {},
   "source": [
    "We can clearly see movement of cost, savings and denied customers as we vary our paramater. This happens because of precision-recall trade-off with higher thrsholds we are increasing our precision but lowering our recall."
   ]
  },
  {
   "cell_type": "code",
   "execution_count": 80,
   "metadata": {},
   "outputs": [
    {
     "name": "stdout",
     "output_type": "stream",
     "text": [
      "+--------------------+----------------+---------------------------------------+\n",
      "|                    | Actual Default |            Actual Negative            |\n",
      "+--------------------+----------------+---------------------------------------+\n",
      "| Predicted Default  | Savings:0.758  | Percentage of denied customers: 0.291 |\n",
      "| Predicted Negative |   Cost:0.242   |                   0                   |\n",
      "+--------------------+----------------+---------------------------------------+\n",
      "+--------------------+----------------+---------------------------------------+\n",
      "|                    | Actual Default |            Actual Negative            |\n",
      "+--------------------+----------------+---------------------------------------+\n",
      "| Predicted Default  | Savings:0.551  | Percentage of denied customers: 0.158 |\n",
      "| Predicted Negative |   Cost:0.449   |                   0                   |\n",
      "+--------------------+----------------+---------------------------------------+\n",
      "+--------------------+----------------+---------------------------------------+\n",
      "|                    | Actual Default |            Actual Negative            |\n",
      "+--------------------+----------------+---------------------------------------+\n",
      "| Predicted Default  | Savings:0.205  | Percentage of denied customers: 0.033 |\n",
      "| Predicted Negative |   Cost:0.795   |                   0                   |\n",
      "+--------------------+----------------+---------------------------------------+\n",
      "+--------------------+----------------+---------------------------------------+\n",
      "|                    | Actual Default |            Actual Negative            |\n",
      "+--------------------+----------------+---------------------------------------+\n",
      "| Predicted Default  | Savings:0.113  | Percentage of denied customers: 0.015 |\n",
      "| Predicted Negative |   Cost:0.887   |                   0                   |\n",
      "+--------------------+----------------+---------------------------------------+\n",
      "+--------------------+----------------+---------------------------------------+\n",
      "|                    | Actual Default |            Actual Negative            |\n",
      "+--------------------+----------------+---------------------------------------+\n",
      "| Predicted Default  | Savings:0.011  | Percentage of denied customers: 0.001 |\n",
      "| Predicted Negative |   Cost:0.989   |                   0                   |\n",
      "+--------------------+----------------+---------------------------------------+\n"
     ]
    }
   ],
   "source": [
    "for threshold in [0.5, 0.6, 0.75, 0.8, 0.9]:\n",
    "    print_cost_matrix(rf_pipeline_ru, test_temp, threshold=threshold)"
   ]
  },
  {
   "cell_type": "code",
   "execution_count": 85,
   "metadata": {},
   "outputs": [
    {
     "name": "stdout",
     "output_type": "stream",
     "text": [
      "+--------------------+----------------+---------------------------------------+\n",
      "|                    | Actual Default |            Actual Negative            |\n",
      "+--------------------+----------------+---------------------------------------+\n",
      "| Predicted Default  | Savings:0.663  | Percentage of denied customers: 0.279 |\n",
      "| Predicted Negative |   Cost:0.337   |                   0                   |\n",
      "+--------------------+----------------+---------------------------------------+\n",
      "+--------------------+----------------+---------------------------------------+\n",
      "|                    | Actual Default |            Actual Negative            |\n",
      "+--------------------+----------------+---------------------------------------+\n",
      "| Predicted Default  | Savings:0.502  | Percentage of denied customers: 0.161 |\n",
      "| Predicted Negative |   Cost:0.498   |                   0                   |\n",
      "+--------------------+----------------+---------------------------------------+\n",
      "+--------------------+----------------+---------------------------------------+\n",
      "|                    | Actual Default |            Actual Negative            |\n",
      "+--------------------+----------------+---------------------------------------+\n",
      "| Predicted Default  | Savings:0.242  | Percentage of denied customers: 0.046 |\n",
      "| Predicted Negative |   Cost:0.758   |                   0                   |\n",
      "+--------------------+----------------+---------------------------------------+\n",
      "+--------------------+----------------+---------------------------------------+\n",
      "|                    | Actual Default |            Actual Negative            |\n",
      "+--------------------+----------------+---------------------------------------+\n",
      "| Predicted Default  | Savings:0.167  | Percentage of denied customers: 0.027 |\n",
      "| Predicted Negative |   Cost:0.833   |                   0                   |\n",
      "+--------------------+----------------+---------------------------------------+\n",
      "+--------------------+----------------+---------------------------------------+\n",
      "|                    | Actual Default |            Actual Negative            |\n",
      "+--------------------+----------------+---------------------------------------+\n",
      "| Predicted Default  | Savings:0.067  | Percentage of denied customers: 0.008 |\n",
      "| Predicted Negative |   Cost:0.933   |                   0                   |\n",
      "+--------------------+----------------+---------------------------------------+\n"
     ]
    }
   ],
   "source": [
    "for threshold in [0.5, 0.6, 0.75, 0.8, 0.9]:\n",
    "    print_cost_matrix(lgbm_pipeline_ro, test_temp, threshold=threshold)"
   ]
  },
  {
   "cell_type": "code",
   "execution_count": null,
   "metadata": {},
   "outputs": [],
   "source": []
  }
 ],
 "metadata": {
  "kernelspec": {
   "display_name": "Python 3",
   "language": "python",
   "name": "python3"
  },
  "language_info": {
   "codemirror_mode": {
    "name": "ipython",
    "version": 3
   },
   "file_extension": ".py",
   "mimetype": "text/x-python",
   "name": "python",
   "nbconvert_exporter": "python",
   "pygments_lexer": "ipython3",
   "version": "3.7.4"
  }
 },
 "nbformat": 4,
 "nbformat_minor": 4
}
